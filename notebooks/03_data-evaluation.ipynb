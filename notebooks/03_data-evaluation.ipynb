{
 "cells": [
  {
   "cell_type": "code",
   "execution_count": null,
   "id": "ffd49a6b",
   "metadata": {},
   "outputs": [],
   "source": [
    "%load_ext autoreload\n",
    "%autoreload 2"
   ]
  },
  {
   "cell_type": "code",
   "execution_count": null,
   "id": "daea66c0",
   "metadata": {},
   "outputs": [],
   "source": [
    "\n",
    "import sys, os, warnings\n",
    "warnings.filterwarnings(\"ignore\")\n",
    "sys.path.append(os.path.abspath(os.path.join('../src')))\n",
    "\n",
    "import pandas as pd\n",
    "from IPython.display import display, Markdown\n",
    "from churn.utils import set_seed\n",
    "from churn.eval import evaluate_model, set_eval_theme, get_feature_importance\n",
    "\n",
    "SEED = 42\n",
    "set_seed(SEED)\n",
    "set_eval_theme()"
   ]
  },
  {
   "cell_type": "code",
   "execution_count": null,
   "id": "b409f3de",
   "metadata": {},
   "outputs": [],
   "source": [
    "MODEL_PATH = r\"C:\\Users\\PC\\OneDrive\\Documents\\uni\\AI7101-Project\\models\"\n",
    "VAL_CSV = r\"C:\\Users\\PC\\OneDrive\\Documents\\uni\\AI7101-Project\\data\\processed\\val_processed.csv\"\n",
    "TEST_CSV = r\"C:\\Users\\PC\\OneDrive\\Documents\\uni\\AI7101-Project\\data\\processed\\test_processed.csv\"\n",
    "TARGET = \"CHURN\""
   ]
  },
  {
   "cell_type": "code",
   "execution_count": null,
   "id": "6b4b7b4a",
   "metadata": {},
   "outputs": [],
   "source": [
    "val_df = pd.read_csv(VAL_CSV)\n",
    "test_df = pd.read_csv(TEST_CSV)\n",
    "\n",
    "X_val, y_val = val_df.drop(columns=[\"CHURN\"]), val_df[TARGET].astype(int)\n",
    "X_test, y_test = test_df.drop(columns=[\"CHURN\"]), test_df[TARGET].astype(int)"
   ]
  },
  {
   "cell_type": "markdown",
   "id": "deb5a049",
   "metadata": {},
   "source": [
    "## Logistic Regression"
   ]
  },
  {
   "cell_type": "code",
   "execution_count": null,
   "id": "e308d99d",
   "metadata": {},
   "outputs": [],
   "source": [
    "model_path = r\"C:\\path\\to\\logistic_regression_model.joblib\"\n",
    "res_lr = evaluate_model(model_path, X_val, y_val, X_test, y_test, threshold=\"f1\")\n",
    "\n",
    "print(f\"Threshold: {res_lr['threshold']:.3f}\\n\")\n",
    "print(\"Validation Metrics:\")\n",
    "for k, v in res_lr[\"val_metrics\"].items():\n",
    "    if isinstance(v, float):\n",
    "        print(f\"  {k:>12}: {v:.4f}\")\n",
    "\n",
    "print(\"\\nTest Metrics:\")\n",
    "for k, v in res_lr[\"test_metrics\"].items():\n",
    "    if isinstance(v, float):\n",
    "        print(f\"  {k:>12}: {v:.4f}\")\n",
    "\n",
    "print(\"\\n--- Classification Report (Validation) ---\")\n",
    "print(res_lr[\"val_report\"])\n",
    "\n",
    "print(\"\\n--- Classification Report (Test) ---\")\n",
    "print(res_lr[\"test_report\"])\n",
    "\n",
    "if res_lr[\"importances\"] is not None:\n",
    "    imp_lr = get_feature_importance(res_lr[\"model\"], res_lr[\"features\"], plot=True, top=20)"
   ]
  },
  {
   "cell_type": "markdown",
   "id": "87a54981",
   "metadata": {},
   "source": [
    "## Random Forest"
   ]
  },
  {
   "cell_type": "code",
   "execution_count": null,
   "id": "8ff9b702",
   "metadata": {},
   "outputs": [],
   "source": [
    "model_path = r\"C:\\Users\\PC\\OneDrive\\Documents\\uni\\AI7101-Project\\models\\random_forest_model.joblib\"\n",
    "res_rf = evaluate_model(model_path, X_val, y_val, X_test, y_test, threshold=\"f1\")\n",
    "\n",
    "print(f\"Threshold: {res_rf['threshold']:.3f}\\n\")\n",
    "print(\"Validation Metrics:\")\n",
    "for k, v in res_rf[\"val_metrics\"].items():\n",
    "    if isinstance(v, float):\n",
    "        print(f\"  {k:>12}: {v:.4f}\")\n",
    "\n",
    "print(\"\\nTest Metrics:\")\n",
    "for k, v in res_rf[\"test_metrics\"].items():\n",
    "    if isinstance(v, float):\n",
    "        print(f\"  {k:>12}: {v:.4f}\")\n",
    "\n",
    "print(\"\\n--- Classification Report (Validation) ---\")\n",
    "print(res_rf[\"val_report\"])\n",
    "\n",
    "print(\"\\n--- Classification Report (Test) ---\")\n",
    "print(res_rf[\"test_report\"])\n",
    "\n",
    "# feature importance graph\n",
    "if res_rf[\"importances\"] is not None:\n",
    "    imp_rf = get_feature_importance(res_rf[\"model\"], res_rf[\"features\"], plot=True, top=20)"
   ]
  },
  {
   "cell_type": "markdown",
   "id": "e8110140",
   "metadata": {},
   "source": [
    "## Gradient Boosting"
   ]
  },
  {
   "cell_type": "code",
   "execution_count": null,
   "id": "7dae0063",
   "metadata": {},
   "outputs": [],
   "source": [
    "model_path = r\"C:\\Users\\PC\\OneDrive\\Documents\\uni\\AI7101-Project\\models\\xgboost_model.joblib\"\n",
    "res_gb = evaluate_model(model_path, X_val, y_val, X_test, y_test, threshold=\"f1\")\n",
    "\n",
    "print(f\"Threshold: {res_gb['threshold']:.3f}\\n\")\n",
    "print(\"Validation Metrics:\")\n",
    "for k, v in res_gb[\"val_metrics\"].items():\n",
    "    if isinstance(v, float):\n",
    "        print(f\"  {k:>12}: {v:.4f}\")\n",
    "\n",
    "print(\"\\nTest Metrics:\")\n",
    "for k, v in res_gb[\"test_metrics\"].items():\n",
    "    if isinstance(v, float):\n",
    "        print(f\"  {k:>12}: {v:.4f}\")\n",
    "\n",
    "print(\"\\n--- Classification Report (Validation) ---\")\n",
    "print(res_gb[\"val_report\"])\n",
    "\n",
    "print(\"\\n--- Classification Report (Test) ---\")\n",
    "print(res_gb[\"test_report\"])\n",
    "\n",
    "# Feature importance\n",
    "if res_gb[\"importances\"] is not None:\n",
    "    imp_gb = get_feature_importance(res_gb[\"model\"], res_gb[\"features\"], plot=True, top=20)"
   ]
  },
  {
   "cell_type": "markdown",
   "id": "e69468f2",
   "metadata": {},
   "source": [
    "## Final Comparison table"
   ]
  },
  {
   "cell_type": "code",
   "execution_count": null,
   "id": "3e214da7",
   "metadata": {},
   "outputs": [],
   "source": [
    "all_results = {\n",
    "    \"Logistic Regression\": res_lr,\n",
    "    \"Random Forest\": res_rf,\n",
    "    \"Gradient Boosting\": res_gb\n",
    "}\n",
    "\n",
    "rows = []\n",
    "for name, res in all_results.items():\n",
    "    vm = res[\"val_metrics\"]\n",
    "    tm = res[\"test_metrics\"]\n",
    "    rows.append({\n",
    "        \"Model\": name,\n",
    "        \"Val ROC AUC\": vm[\"roc_auc\"],\n",
    "        \"Test ROC AUC\": tm[\"roc_auc\"],\n",
    "        \"Val PR AUC\": vm[\"pr_auc\"],\n",
    "        \"Test PR AUC\": tm[\"pr_auc\"],\n",
    "        \"Val F1\": vm[\"f1\"],\n",
    "        \"Test F1\": tm[\"f1\"],\n",
    "        \"Threshold\": res[\"threshold\"],\n",
    "    })\n",
    "\n",
    "summary = pd.DataFrame(rows).sort_values(\"Test ROC AUC\", ascending=False)\n",
    "display(summary)"
   ]
  },
  {
   "cell_type": "markdown",
   "id": "39b365ff",
   "metadata": {},
   "source": [
    "## Save Figures"
   ]
  },
  {
   "cell_type": "code",
   "execution_count": null,
   "id": "a31bffce",
   "metadata": {},
   "outputs": [],
   "source": [
    "outdir = r\"..\\figs\"\n",
    "os.makedirs(outdir, exist_ok=True)\n",
    "\n",
    "for name, res in all_results.items():\n",
    "    for tag, fig in res[\"figures\"].items():\n",
    "        fig.savefig(os.path.join(outdir, f\"{name.replace(' ','_')}_{tag}.png\"))\n",
    "\n",
    "print(f\"Figures saved to: {outdir}\")"
   ]
  }
 ],
 "metadata": {
  "kernelspec": {
   "display_name": "pythonProject",
   "language": "python",
   "name": "python3"
  },
  "language_info": {
   "codemirror_mode": {
    "name": "ipython",
    "version": 3
   },
   "file_extension": ".py",
   "mimetype": "text/x-python",
   "name": "python",
   "nbconvert_exporter": "python",
   "pygments_lexer": "ipython3",
   "version": "3.11.7"
  }
 },
 "nbformat": 4,
 "nbformat_minor": 5
}
